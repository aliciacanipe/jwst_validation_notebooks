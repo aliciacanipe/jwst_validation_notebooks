{
 "cells": [
  {
   "cell_type": "markdown",
   "metadata": {},
   "source": [
    "<a id=\"title_ID\"></a>\n",
    "# JWST Pipeline Validation Testing Notebook: Linearity Ramp Corrected Residuals\n",
    "\n",
    "### Table of Contents\n",
    "<div style=\"text-align: left\"> \n",
    "\n",
    "<br> [Introduction](#intro_ID) <br> [Imports](#imports_ID) <br> [Getting the Data](#data_ID) <br> [Run Linearity Pipeline Step](#pipeline_ID) <br> [Calculate Residuals and Display](#residual_ID) <br> \n",
    "\n",
    "</div>"
   ]
  },
  {
   "cell_type": "markdown",
   "metadata": {},
   "source": [
    "<a id=\"intro_ID\"></a>\n",
    "# Introduction\n",
    "\n",
    "The linearity step applies the “classic” linearity correction adapted from the HST WFC3/IR linearity correction routine, correcting science data values for detector non-linearity. The correction is applied pixel-by-pixel, group-by-group, integration-by-integration within a science exposure. \n",
    "\n",
    "For more details, visit the documentation here: https://jwst-pipeline.readthedocs.io/en/latest/jwst/linearity/index.html\n",
    "\n",
    "\n",
    "### Defining Term\n",
    "\n",
    "JWST: James Webb Space Telescope\n",
    "\n",
    "OUT: Other Useful Terms\n",
    "\n",
    "[Top of Page](#title_ID)"
   ]
  },
  {
   "cell_type": "markdown",
   "metadata": {},
   "source": [
    "<a id=\"imports_ID\"></a>\n",
    "# Imports\n",
    "\n",
    "* astropy.io for opening fits files\n",
    "* ci_watson.artifactory_helpers.get_bigdata for data retrieval\n",
    "* jwst.datamodels for building model for JWST Pipeline\n",
    "* jwst.linearity.LinearityStep to perform the linearity pipeline correction\n",
    "* matplotlib.pyplot.plt to generate plot\n",
    "* numpy for array parsing and masking\n",
    "* os for operating system commands.\n",
    "\n",
    "* matplotlib inline for plot rendering in notebook\n",
    "\n",
    "[Top of Page](#title_ID)"
   ]
  },
  {
   "cell_type": "code",
   "execution_count": null,
   "metadata": {
    "nbpresent": {
     "id": "45177853-942e-4949-9e30-f544d70ef5f4"
    }
   },
   "outputs": [],
   "source": [
    "%matplotlib inline\n",
    "from astropy.io import fits\n",
    "from ci_watson.artifactory_helpers import get_bigdata\n",
    "from jwst.datamodels import MIRIRampModel\n",
    "from jwst.linearity import LinearityStep\n",
    "import matplotlib.pyplot as plt\n",
    "import numpy as np\n",
    "import os"
   ]
  },
  {
   "cell_type": "markdown",
   "metadata": {},
   "source": [
    "<a id=\"data_ID\"></a>\n",
    "# Getting the Data\n",
    "\n",
    "The data we are using for this test is an uncalibrated MIRI image from cryovac testing. List other interesting features about why this dataset was chosen for testing.\n",
    "\n",
    "Mention something about artifactory... Or how or where we store and access data.\n",
    "\n",
    "[Top of Page](#title_ID)"
   ]
  },
  {
   "cell_type": "code",
   "execution_count": null,
   "metadata": {},
   "outputs": [],
   "source": [
<<<<<<< HEAD
    "# fits_input = fits.open(os.path.join(os.getenv(\"HOME\"), 'jw11173001001_01101_00004_MIRIMAGE_uncal.fits'))\n",
    "\n",
    "# size of integration\n",
    "ramps = 1\n",
    "ngroups = 10\n",
    "xsize = 1032\n",
    "ysize = 1024\n",
    "\n",
<<<<<<< HEAD:jwst_validation_notebooks/jwst_linearity_residuals_test/jwst_linearity_validation_testing.ipynb
    "# create a JWST datamodel for MIRI data\n",
    "im = MIRIRampModel((ramps, ngroups, ysize, xsize))\n",
    "im.data = np.random.rand(ramps, ngroups, ysize, xsize)*1e10\n",
    "im.groupdq = np.random.choice([0, 1], size=(ramps, ngroups, ysize, xsize), p=[7./10, 3./10])\n",
    "# set file header values\n",
    "im.meta.instrument.detector = 'MIRIMAGE'\n",
    "im.meta.instrument.name = 'MIRI'\n",
    "im.meta.observation.date = '2018-01-01'\n",
    "im.meta.observation.time = '00:00:00'\n",
    "im.meta.subarray.xstart = 1\n",
    "im.meta.subarray.xsize = xsize\n",
    "im.meta.subarray.ystart = 1\n",
    "im.meta.subarray.ysize = ysize"
=======
    "# Define data's shape\n",
    "csize = (nints, ngroups, ysize, xsize)\n",
    "data = np.random.rand(nints, ngroups, ysize, xsize)*1e6\n",
    "\n",
    "# create a JWST MIRI rampmodel\n",
    "dm_ramp = MIRIRampModel(data=data)\n",
    "\n",
    "dm_ramp.meta.instrument.name = 'MIRI'\n",
    "dm_ramp.meta.observation.date = '2018-01-01'\n",
    "dm_ramp.meta.observation.time = '00:00:00'\n",
    "dm_ramp.meta.subarray.xstart = 1\n",
    "dm_ramp.meta.subarray.xsize = xsize\n",
    "dm_ramp.meta.subarray.ystart = 1\n",
    "dm_ramp.meta.subarray.ysize = ysize\n",
    "dm_ramp.meta.description = 'Fake data.'\n",
    "\n",
    "\n",
    "# Define shape of dark model\n",
    "csize = (nints*5, ngroups, ysize, xsize)\n",
    "data = np.random.rand(nints, ngroups, ysize, xsize) * 1e2\n",
    "\n",
    "# Create dark datamodel\n",
    "dark = DarkMIRIModel(data=data)\n",
    "\n",
    "dark.meta.instrument.name = 'MIRI'\n",
    "dark.meta.date = '2018-01-01'\n",
    "dark.meta.time = '00:00:00'\n",
    "dark.meta.subarray.xstart = 1\n",
    "dark.meta.subarray.xsize = xsize\n",
    "dark.meta.subarray.ystart = 1\n",
    "dark.meta.subarray.ysize = ysize\n",
    "dark.meta.exposure.nframes = 1\n",
    "dark.meta.exposure.groupgap = 0\n",
    "dark.meta.description = 'Fake data.'\n",
    "dark.meta.reftype = 'DarkModel'\n",
    "dark.meta.pedigree = 'Dummy'\n",
    "dark.meta.useafter = '2015-10-01T00:00:00'\n",
    "\n",
    "# create raw input data for step\n",
    "dm_ramp.meta.exposure.nframes = 1\n",
    "dm_ramp.meta.exposure.groupgap = 0"
>>>>>>> Made updates to the data in the datamodel creation step:jwst_validation_notebooks/jwst_dark_quality_test/jwst_dark_quality_test.ipynb
=======
    "filename = get_bigdata('jwst_validation_notebooks', \n",
    "                       'jw80600003001_02101_00001_mirimage_uncal.fits')\n",
    "fits_input = fits.open(filename)"
>>>>>>> Automated deployment to GitHub Pages: jenkins-Notebooks-jwst_validation_notebooks-105
   ]
  },
  {
   "cell_type": "markdown",
   "metadata": {},
   "source": [
    "<a id=\"pipeline_ID\"></a>\n",
    "# Run Linearity Pipeline Step\n",
    "\n",
    "Define the output file and run the linearity correction step of the pipeline.\n",
    "\n",
    "[Top of Page](#title_ID)"
   ]
  },
  {
   "cell_type": "code",
   "execution_count": null,
   "metadata": {},
   "outputs": [],
   "source": [
    "outname = fits_input[0].header['filename'].replace('.fits',\n",
    "                                                    '_linearitystep.fits')\n",
    "LinearityStep.call(MIRIRampModel(fits_input), output_file=outname,\n",
    "                   save_results=True)"
   ]
  },
  {
   "cell_type": "markdown",
   "metadata": {},
   "source": [
    "<a id=\"residual_ID\"></a>\n",
    "# Calculate Residuals and Display\n",
    "\n",
    "Calculate the second difference of the linearity corrected ramp for each \n",
    "pixel. If the ramp is perfectly linear they should be zero.\n",
    "\n",
    "[Top of Page](#title_ID)"
   ]
  },
  {
   "cell_type": "code",
   "execution_count": null,
   "metadata": {
    "nbpresent": {
     "id": "fb9e82bd-ecca-4033-ad38-8772e288b145"
    }
   },
   "outputs": [],
   "source": [
    "fits_output = fits.open(outname)\n",
    "\n",
    "nints, ngroups, nx, ny = fits_output['SCI'].data.shape\n",
    "data_by_pixel = fits_output['SCI'].data.reshape(nints, ngroups, nx * ny)\n",
    "groupdq_by_pixel = fits_output['GROUPDQ'].data.reshape(nints, ngroups,\n",
    "                                                       nx * ny)\n",
    "masked_output = np.ma.array(data_by_pixel, mask=groupdq_by_pixel.astype(bool))\n",
    "masked_input = np.ma.array(fits_input['SCI'].data.reshape(nints, ngroups, nx * ny),\n",
    "                           mask=groupdq_by_pixel.astype(bool))\n",
    "second_diff = np.ma.diff(masked_output, n=2, axis=1)\n",
    "\n",
    "# Set plot params\n",
    "plt.rc('font', weight='bold')\n",
    "plt.rc('xtick.major', size=5, pad=7)\n",
    "plt.rc('xtick', labelsize=15)\n",
    "plt.rc('ytick', labelsize=15)\n",
    "\n",
    "plt.figure(figsize=(20,10))\n",
    "plt.title(fits_input[0].header['FILENAME'], fontsize=20, fontweight='bold')\n",
    "\n",
    "plt.plot(masked_input.data[0, 1:-1, :].flatten(),\n",
    "         second_diff.data[0, :, :].flatten(), ',k', alpha=.01)\n",
    "\n",
    "plt.axhline(y=0.0, color='r', ls='--')\n",
    "\n",
    "plt.xlim(min(masked_input.data[0, 1:-1, :].flatten()), max(masked_input.data[0, 1:-1, :].flatten()))\n",
    "plt.ylim(-250, 250)\n",
    "plt.ylabel('Second Difference', fontsize=20, fontweight='bold')\n",
    "plt.xlabel('Uncorrected Counts (DN)', fontsize=20, fontweight='bold')\n",
    "\n",
    "plt.show()"
   ]
  },
  {
   "cell_type": "markdown",
   "metadata": {},
   "source": [
    "<a id=\"about_ID\"></a>\n",
    "## About this Notebook\n",
    "**Author:** Mees Fix, RIA MESA Branch\n",
    "<br>**Updated On:** 04/19/2019"
   ]
  },
  {
   "cell_type": "markdown",
   "metadata": {},
   "source": [
    "[Top of Page](#title_ID)\n",
    "<img style=\"float: right;\" src=\"./stsci_pri_combo_mark_horizonal_white_bkgd.png\" alt=\"stsci_pri_combo_mark_horizonal_white_bkgd\" width=\"200px\"/> "
   ]
  }
 ],
 "metadata": {
  "kernelspec": {
   "display_name": "Python [default]",
   "language": "python",
   "name": "python3"
  },
  "language_info": {
   "codemirror_mode": {
    "name": "ipython",
    "version": 3
   },
   "file_extension": ".py",
   "mimetype": "text/x-python",
   "name": "python",
   "nbconvert_exporter": "python",
   "pygments_lexer": "ipython3",
   "version": "3.5.6"
  }
 },
 "nbformat": 4,
 "nbformat_minor": 1
}
